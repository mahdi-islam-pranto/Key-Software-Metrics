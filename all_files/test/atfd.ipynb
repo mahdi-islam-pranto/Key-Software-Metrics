{
  "nbformat": 4,
  "nbformat_minor": 0,
  "metadata": {
    "colab": {
      "provenance": []
    },
    "kernelspec": {
      "name": "python3",
      "display_name": "Python 3"
    },
    "language_info": {
      "name": "python"
    }
  },
  "cells": [
    {
      "cell_type": "code",
      "source": [
        "from google.colab import drive\n",
        "\n",
        "drive.mount('/content/drive')\n"
      ],
      "metadata": {
        "colab": {
          "base_uri": "https://localhost:8080/"
        },
        "id": "d7T-OSWOq4jp",
        "outputId": "10fa780c-aeed-41f4-db56-6b03bcc95ec7"
      },
      "execution_count": 2,
      "outputs": [
        {
          "output_type": "stream",
          "name": "stdout",
          "text": [
            "Mounted at /content/drive\n"
          ]
        }
      ]
    },
    {
      "cell_type": "code",
      "source": [
        "import os\n",
        "import re\n",
        "import openpyxl\n",
        "from collections import Counter\n",
        "\n",
        "def extract_comments_methods(file_path):\n",
        "    with open(file_path, 'r') as file:\n",
        "        content = file.readlines()\n",
        "\n",
        "    # Regular expressions to detect comments, methods, and class names\n",
        "    comment_pattern = r'#.*'\n",
        "    method_pattern = r'def\\s+(\\w+)\\s*\\((.*?)\\):'\n",
        "    class_pattern = r'class\\s+(\\w+)\\s*:'\n",
        "\n",
        "    # Find all comments in the file\n",
        "    comments = []\n",
        "    for line in content:\n",
        "        if not line.strip():  # Skip empty lines\n",
        "            continue\n",
        "        match = re.match(comment_pattern, line.strip())\n",
        "        if match:\n",
        "            comments.append(match.group())\n",
        "\n",
        "    # Find all methods and their parameters\n",
        "    methods = re.findall(method_pattern, ''.join(content))\n",
        "\n",
        "    # Find all class names\n",
        "    class_names = re.findall(class_pattern, ''.join(content))\n",
        "\n",
        "    # Calculate comment percentage and total lines (excluding empty lines)\n",
        "    total_lines = len([line for line in content if line.strip()])\n",
        "    comment_lines = len(comments)\n",
        "    comment_percentage = (comment_lines / total_lines) * 100\n",
        "\n",
        "    return comments, comment_lines, methods, class_names, comment_percentage, total_lines\n",
        "\n",
        "# Function to process each .py file and store the results in an Excel sheet\n",
        "def process_py_files(folder_path):\n",
        "    wb = openpyxl.Workbook()\n",
        "    ws = wb.active\n",
        "    ws.title = 'Python File Results'\n",
        "    ws.append(['File Name', 'Comments', 'Total Comments', 'Class Names', 'Method Names', 'Comment Percentage', 'Total Lines of Code', 'ATFD'])\n",
        "\n",
        "    for file_name in os.listdir(folder_path):\n",
        "        if file_name.endswith('.py'):\n",
        "            file_path = os.path.join(folder_path, file_name)\n",
        "            comments, comment_lines, methods, class_names, comment_percentage, total_lines = extract_comments_methods(file_path)\n",
        "\n",
        "            # Get method names and class names\n",
        "            method_names = [method[0] for method in methods]\n",
        "            class_names_list = ', '.join(class_names).split(', ')\n",
        "\n",
        "            # Count method occurrences\n",
        "            method_counter = Counter(method_names)\n",
        "\n",
        "            # Get method names used in multiple classes\n",
        "            methods_used_in_multiple_classes = [method for method, count in method_counter.items() if count > 1]\n",
        "\n",
        "            # Append data for the current file\n",
        "            atfd = ', '.join([f\"{method} ({method_counter[method]} times)\" for method in methods_used_in_multiple_classes])\n",
        "            ws.append([file_name, '\\n'.join(comments), comment_lines, ', '.join(class_names_list), ', '.join(method_names), comment_percentage, total_lines, atfd])\n",
        "\n",
        "    output_file_path = '/content/drive/MyDrive/thesis/test/sheet_new.xlsx'\n",
        "    wb.save(output_file_path)\n",
        "\n",
        "    print(\"Excel file created:\", output_file_path)\n",
        "\n",
        "# Example usage:\n",
        "folder_path = '/content/drive/MyDrive/thesis/test'\n",
        "process_py_files(folder_path)\n"
      ],
      "metadata": {
        "colab": {
          "base_uri": "https://localhost:8080/"
        },
        "id": "jD_cSC-6yMIV",
        "outputId": "45cdf5a2-0df7-429e-b0a8-e5cc6a4f6cef"
      },
      "execution_count": 6,
      "outputs": [
        {
          "output_type": "stream",
          "name": "stdout",
          "text": [
            "Excel file created: /content/drive/MyDrive/thesis/test/sheet_new.xlsx\n"
          ]
        }
      ]
    }
  ]
}