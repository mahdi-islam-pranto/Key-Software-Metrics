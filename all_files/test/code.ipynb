{
  "nbformat": 4,
  "nbformat_minor": 0,
  "metadata": {
    "colab": {
      "provenance": []
    },
    "kernelspec": {
      "name": "python3",
      "display_name": "Python 3"
    },
    "language_info": {
      "name": "python"
    }
  },
  "cells": [
    {
      "cell_type": "code",
      "source": [
        "#pranto#for one file\n",
        "import re\n",
        "import pandas as pd\n",
        "\n",
        "def detect_comments_methods(file_path):\n",
        "    with open(file_path, 'r') as file:\n",
        "        content = file.readlines()\n",
        "\n",
        "    # Regular expressions to detect comments and methods\n",
        "    comment_pattern = r'#.*'\n",
        "    method_pattern = r'def\\s+(\\w+)\\s*\\((.*?)\\):'\n",
        "\n",
        "    # Find all comments in the file\n",
        "    comments = []\n",
        "    for line in content:\n",
        "        if not line.strip():  # Skip empty lines\n",
        "            continue\n",
        "        match = re.match(comment_pattern, line.strip())\n",
        "        if match:\n",
        "            comments.append(match.group())\n",
        "\n",
        "    # Find all methods and their parameters\n",
        "    methods = re.findall(method_pattern, ''.join(content))\n",
        "\n",
        "    # Calculate comment percentage\n",
        "    total_lines = len([line for line in content if line.strip()])  # Count non-empty lines\n",
        "    comment_lines = len(comments)\n",
        "    comment_percentage = (comment_lines / total_lines) * 100\n",
        "\n",
        "    return comments, methods, comment_percentage\n",
        "\n",
        "# Example usage:\n",
        "file_path = '/content/drive/MyDrive/thesis/test/3.py'\n",
        "comments, methods, comment_percentage = detect_comments_methods(file_path)\n",
        "\n",
        "# Create a list of dictionaries to store the data\n",
        "data = []\n",
        "max_len = max(len(comments), len(methods))\n",
        "for i in range(max_len):\n",
        "    comment = comments[i] if i < len(comments) else ''\n",
        "    method = f\"{methods[i][0]}({methods[i][1]})\" if i < len(methods) else ''\n",
        "    data.append({\n",
        "        'Comments': comment,\n",
        "        'Methods': method,\n",
        "        'Comment Percentage': comment_percentage,\n",
        "    })\n",
        "\n",
        "# Create the DataFrame from the list of dictionaries\n",
        "df = pd.DataFrame(data)\n",
        "\n",
        "# Write the DataFrame to an Excel file\n",
        "output_file_path = '/content/drive/MyDrive/thesis/test/sheet.xlsx'\n",
        "df.to_excel(output_file_path, index=False)\n",
        "\n",
        "print(\"Output written to Excel file:\", output_file_path)\n"
      ],
      "metadata": {
        "colab": {
          "base_uri": "https://localhost:8080/"
        },
        "id": "NR3EMajtgMjT",
        "outputId": "3eba8995-f26d-4b43-a03e-3cb7098fd2a0"
      },
      "execution_count": 9,
      "outputs": [
        {
          "output_type": "stream",
          "name": "stdout",
          "text": [
            "Output written to Excel file: /content/drive/MyDrive/thesis/test/sheet.xlsx\n"
          ]
        }
      ]
    },
    {
      "cell_type": "code",
      "source": [
        "#pranto#for multiple file\n",
        "import os\n",
        "import re\n",
        "import pandas as pd\n",
        "\n",
        "def extract_comments_methods(file_path):\n",
        "    with open(file_path, 'r') as file:\n",
        "        content = file.readlines()\n",
        "\n",
        "    # Regular expressions to detect comments and methods\n",
        "    comment_pattern = r'#.*'\n",
        "    method_pattern = r'def\\s+(\\w+)\\s*\\((.*?)\\):'\n",
        "\n",
        "    # Find all comments in the file\n",
        "    comments = []\n",
        "    for line in content:\n",
        "        if not line.strip():  # Skip empty lines\n",
        "            continue\n",
        "        match = re.match(comment_pattern, line.strip())\n",
        "        if match:\n",
        "            comments.append(match.group())\n",
        "\n",
        "    # Find all methods and their parameters\n",
        "    methods = re.findall(method_pattern, ''.join(content))\n",
        "\n",
        "    # Calculate comment percentage and total lines (excluding empty lines)\n",
        "    total_lines = len([line for line in content if line.strip()])\n",
        "    comment_lines = len(comments)\n",
        "    comment_percentage = (comment_lines / total_lines) * 100\n",
        "\n",
        "    return comments, comment_lines, methods, comment_percentage, total_lines\n",
        "\n",
        "# Function to process each .py file and store the results in a DataFrame\n",
        "def process_py_files(folder_path):\n",
        "    data = []\n",
        "    for file_name in os.listdir(folder_path):\n",
        "        if file_name.endswith('.py'):\n",
        "            file_path = os.path.join(folder_path, file_name)\n",
        "            comments, comment_lines, methods, comment_percentage, total_lines = extract_comments_methods(file_path)\n",
        "\n",
        "            # Get class and method names\n",
        "            class_names = [method[0] for method in methods]\n",
        "            method_names = [f\"{method[0]}({method[1]})\" for method in methods]\n",
        "\n",
        "            # Append data for the current file\n",
        "            data.append({\n",
        "                'File Name': file_name,\n",
        "                'Comments': comments,\n",
        "                'Total Comments': comment_lines,\n",
        "                'Class Names': class_names,\n",
        "                'Method Names': method_names,\n",
        "                'Comment Percentage': comment_percentage,\n",
        "                'Total Lines of Code': total_lines,\n",
        "            })\n",
        "\n",
        "    # Create the DataFrame and write to Excel\n",
        "    df = pd.DataFrame(data)\n",
        "    output_file_path = '/content/drive/MyDrive/thesis/test/sheet.xlsx'\n",
        "    df.to_excel(output_file_path, index=False)\n",
        "\n",
        "    print(\"Results written to Excel file:\", output_file_path)\n",
        "\n",
        "# Example usage:\n",
        "folder_path = '/content/drive/MyDrive/thesis/test'\n",
        "process_py_files(folder_path)\n"
      ],
      "metadata": {
        "colab": {
          "base_uri": "https://localhost:8080/"
        },
        "id": "SvDIi8pktcYf",
        "outputId": "87a34c49-f69d-4255-a5f4-6ee1cae69b64"
      },
      "execution_count": 10,
      "outputs": [
        {
          "output_type": "stream",
          "name": "stdout",
          "text": [
            "Results written to Excel file: /content/drive/MyDrive/thesis/test/sheet.xlsx\n"
          ]
        }
      ]
    }
  ]
}